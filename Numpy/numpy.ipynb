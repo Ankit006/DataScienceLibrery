{
 "metadata": {
  "language_info": {
   "codemirror_mode": {
    "name": "ipython",
    "version": 3
   },
   "file_extension": ".py",
   "mimetype": "text/x-python",
   "name": "python",
   "nbconvert_exporter": "python",
   "pygments_lexer": "ipython3",
   "version": "3.7.9-final"
  },
  "orig_nbformat": 2,
  "kernelspec": {
   "name": "Python 3.7.9 64-bit ('tensorflow-gpu': conda)",
   "display_name": "Python 3.7.9 64-bit ('tensorflow-gpu': conda)",
   "metadata": {
    "interpreter": {
     "hash": "16cb3fa9b003dc67a1c78e67c95d89337dd59faa3d079a3ae3c7aae6f23211b7"
    }
   }
  }
 },
 "nbformat": 4,
 "nbformat_minor": 2,
 "cells": [
  {
   "source": [
    "# Numpy\n",
    "Numpay help us to store value in array like normal array,2D array or 3D, it's even faster than list. So, that's why we use numpy rather than a list. Because it's use less bytes of memory than a list. Another reason is that numpy doesn't check type of value in a array when we iterating it\n",
    "\n",
    "Not only storing data, we can also use numpy for mathmathical calculation, drawing plots and it also backbone of some of the popular python pakage like pandas, connect 4 etc"
   ],
   "cell_type": "markdown",
   "metadata": {}
  },
  {
   "cell_type": "code",
   "execution_count": 487,
   "metadata": {},
   "outputs": [],
   "source": [
    "import numpy as np #importing numpy "
   ]
  },
  {
   "cell_type": "code",
   "execution_count": 488,
   "metadata": {
    "tags": []
   },
   "outputs": [
    {
     "output_type": "stream",
     "name": "stdout",
     "text": "[1 2 3 4 5]\n"
    }
   ],
   "source": [
    "a = np.array([1,2,3,4,5]) # np.array is used to create an array\n",
    "print(a)"
   ]
  },
  {
   "cell_type": "code",
   "execution_count": 489,
   "metadata": {
    "tags": []
   },
   "outputs": [
    {
     "output_type": "stream",
     "name": "stdout",
     "text": "[[ 9.   8.   9.   4. ]\n [ 6.  50.  56.   5.2]]\n"
    }
   ],
   "source": [
    "b = np.array([[9.0,8,9,4],[6.0,50,56,5.2]]) # creating a 2D array\n",
    "print(b)"
   ]
  },
  {
   "cell_type": "code",
   "execution_count": 490,
   "metadata": {
    "tags": []
   },
   "outputs": [
    {
     "output_type": "stream",
     "name": "stdout",
     "text": "1\n"
    }
   ],
   "source": [
    "# get the dimension of numpy array\n",
    "print(a.ndim) # a.ndim use to get the number of dimension of an array"
   ]
  },
  {
   "cell_type": "code",
   "execution_count": 491,
   "metadata": {
    "tags": []
   },
   "outputs": [
    {
     "output_type": "stream",
     "name": "stdout",
     "text": "2\n"
    }
   ],
   "source": [
    "print(b.ndim)"
   ]
  },
  {
   "cell_type": "code",
   "execution_count": 492,
   "metadata": {
    "tags": []
   },
   "outputs": [
    {
     "output_type": "stream",
     "name": "stdout",
     "text": "(5,)\n"
    }
   ],
   "source": [
    "print(a.shape) # a.shape tell us the shape of our data in array, in this 1D array shape is (4,) means out data is divided in 4 blocks because we have 4 values"
   ]
  },
  {
   "cell_type": "code",
   "execution_count": 493,
   "metadata": {
    "tags": []
   },
   "outputs": [
    {
     "output_type": "stream",
     "name": "stdout",
     "text": "(2, 4)\n"
    }
   ],
   "source": [
    "print(b.shape) # for 2D array , it's shape is like a matrix. in this case out data is divided into 2 rows and 4 columns"
   ]
  },
  {
   "cell_type": "code",
   "execution_count": 494,
   "metadata": {
    "tags": []
   },
   "outputs": [
    {
     "output_type": "stream",
     "name": "stdout",
     "text": "int32\n"
    }
   ],
   "source": [
    "print(a.dtype) # it's give us the data type so we can understand how much memory it's consuming, like in this case a array is int32"
   ]
  },
  {
   "cell_type": "code",
   "execution_count": 495,
   "metadata": {
    "tags": []
   },
   "outputs": [
    {
     "output_type": "stream",
     "name": "stdout",
     "text": "float64\n"
    }
   ],
   "source": [
    "print(b.dtype)"
   ]
  },
  {
   "cell_type": "code",
   "execution_count": 496,
   "metadata": {
    "tags": []
   },
   "outputs": [
    {
     "output_type": "stream",
     "name": "stdout",
     "text": "4\n"
    }
   ],
   "source": [
    "print(a.itemsize) # a.itemsize give us length of one array element inbytes"
   ]
  },
  {
   "cell_type": "code",
   "execution_count": 497,
   "metadata": {
    "tags": []
   },
   "outputs": [
    {
     "output_type": "stream",
     "name": "stdout",
     "text": "8\n"
    }
   ],
   "source": [
    "print(b.itemsize) "
   ]
  },
  {
   "cell_type": "code",
   "execution_count": 498,
   "metadata": {
    "tags": []
   },
   "outputs": [
    {
     "output_type": "stream",
     "name": "stdout",
     "text": "20\n"
    }
   ],
   "source": [
    "print(a.nbytes) # nbytes return total number of bytes consume by the array"
   ]
  },
  {
   "cell_type": "code",
   "execution_count": 499,
   "metadata": {
    "tags": []
   },
   "outputs": [
    {
     "output_type": "stream",
     "name": "stdout",
     "text": "64\n"
    }
   ],
   "source": [
    "print(b.nbytes)"
   ]
  },
  {
   "cell_type": "code",
   "execution_count": 500,
   "metadata": {
    "tags": []
   },
   "outputs": [
    {
     "output_type": "stream",
     "name": "stdout",
     "text": "5\n"
    }
   ],
   "source": [
    "print(a.size) # gives use total number of element "
   ]
  },
  {
   "cell_type": "code",
   "execution_count": 501,
   "metadata": {
    "tags": []
   },
   "outputs": [
    {
     "output_type": "stream",
     "name": "stdout",
     "text": "8\n"
    }
   ],
   "source": [
    "print(b.size)"
   ]
  },
  {
   "source": [
    "## accesing and changing elements , rows and colums"
   ],
   "cell_type": "markdown",
   "metadata": {}
  },
  {
   "cell_type": "code",
   "execution_count": 502,
   "metadata": {
    "tags": []
   },
   "outputs": [
    {
     "output_type": "stream",
     "name": "stdout",
     "text": "[[ 1  2  3  4  5  6  7]\n [ 8  9 10 11 12 14 16]]\n"
    }
   ],
   "source": [
    "a = np.array([[1,2,3,4,5,6,7],[8,9,10,11,12,14,16]])\n",
    "print(a)"
   ]
  },
  {
   "cell_type": "code",
   "execution_count": 503,
   "metadata": {
    "tags": []
   },
   "outputs": [
    {
     "output_type": "stream",
     "name": "stdout",
     "text": "(2, 7)\n"
    }
   ],
   "source": [
    "print(a.shape)"
   ]
  },
  {
   "cell_type": "code",
   "execution_count": 504,
   "metadata": {
    "tags": []
   },
   "outputs": [
    {
     "output_type": "stream",
     "name": "stdout",
     "text": "8\n"
    }
   ],
   "source": [
    "# get a sepcific element in a 2D numpy array\n",
    "print(a[1,0]) # numby indexing first item is row and sencond is column , remember indexing start with 0, for second row indexing is 1 and first column is 0"
   ]
  },
  {
   "cell_type": "code",
   "execution_count": 505,
   "metadata": {
    "tags": []
   },
   "outputs": [
    {
     "output_type": "stream",
     "name": "stdout",
     "text": "16\n"
    }
   ],
   "source": [
    "print(a[1,-1]) # you can also use negative value to choose last value, here -1 means last column"
   ]
  },
  {
   "cell_type": "code",
   "execution_count": 506,
   "metadata": {
    "tags": []
   },
   "outputs": [
    {
     "output_type": "stream",
     "name": "stdout",
     "text": "16\n"
    }
   ],
   "source": [
    "print(a[-1,-1])"
   ]
  },
  {
   "cell_type": "code",
   "execution_count": 507,
   "metadata": {
    "tags": []
   },
   "outputs": [
    {
     "output_type": "stream",
     "name": "stdout",
     "text": "[1 2 3 4 5 6 7]\n"
    }
   ],
   "source": [
    "#get a specific row\n",
    "print(a[0,:]) # \":\" means select every item, in this case select every colum in 0 array"
   ]
  },
  {
   "cell_type": "code",
   "execution_count": 508,
   "metadata": {
    "tags": []
   },
   "outputs": [
    {
     "output_type": "stream",
     "name": "stdout",
     "text": "[1 8]\n"
    }
   ],
   "source": [
    "print(a[:,0]) # select every row in first column"
   ]
  },
  {
   "cell_type": "code",
   "execution_count": 509,
   "metadata": {
    "tags": []
   },
   "outputs": [
    {
     "output_type": "stream",
     "name": "stdout",
     "text": "[1 3 5]\n"
    }
   ],
   "source": [
    "print(a[0,0:-1:2]) # [0:-1:2] last value (2) is step, like pick element every 2 steps"
   ]
  },
  {
   "cell_type": "code",
   "execution_count": 510,
   "metadata": {
    "tags": []
   },
   "outputs": [
    {
     "output_type": "stream",
     "name": "stdout",
     "text": "[[ 1  2  3  4  5  6  7]\n [ 8  9 10 11 12 14 16]]\n"
    }
   ],
   "source": [
    "# you can also change elements\n",
    "print(a) \n"
   ]
  },
  {
   "cell_type": "code",
   "execution_count": 511,
   "metadata": {
    "tags": []
   },
   "outputs": [
    {
     "output_type": "stream",
     "name": "stdout",
     "text": "[[ 1 50  3  4  5  6  7]\n [ 8  9 10 11 12 14 16]]\n"
    }
   ],
   "source": [
    "#let's change 2 value which is a[0,1] to 50\n",
    "a[0,1] = 50\n",
    "print(a)"
   ]
  },
  {
   "cell_type": "code",
   "execution_count": 512,
   "metadata": {
    "tags": []
   },
   "outputs": [
    {
     "output_type": "stream",
     "name": "stdout",
     "text": "[[ 1 50  3  4  5  6  7]\n [ 8 50 10 11 12 14 16]]\n"
    }
   ],
   "source": [
    "a[:,1] = 50\n",
    "print(a)"
   ]
  },
  {
   "cell_type": "code",
   "execution_count": 513,
   "metadata": {
    "tags": []
   },
   "outputs": [
    {
     "output_type": "stream",
     "name": "stdout",
     "text": "[[[1 2]\n  [3 4]]\n\n [[5 6]\n  [7 8]]]\n"
    }
   ],
   "source": [
    "#let's work with a 3D array\n",
    "c = np.array([[[1,2],[3,4]],[[5,6],[7,8]]])\n",
    "print(c)"
   ]
  },
  {
   "cell_type": "code",
   "execution_count": 514,
   "metadata": {
    "tags": []
   },
   "outputs": [
    {
     "output_type": "stream",
     "name": "stdout",
     "text": "3\n"
    }
   ],
   "source": [
    "#get the value 3 in first matrix\n",
    "print(c[0,1,0])"
   ]
  },
  {
   "cell_type": "code",
   "execution_count": 515,
   "metadata": {
    "tags": []
   },
   "outputs": [
    {
     "output_type": "stream",
     "name": "stdout",
     "text": "[1 5]\n"
    }
   ],
   "source": [
    "print(c[:,0,0])"
   ]
  },
  {
   "cell_type": "code",
   "execution_count": 516,
   "metadata": {
    "tags": []
   },
   "outputs": [],
   "source": [
    "#replace 3D array item\n",
    "c[:,0,0] = 10"
   ]
  },
  {
   "cell_type": "code",
   "execution_count": 517,
   "metadata": {
    "tags": []
   },
   "outputs": [
    {
     "output_type": "stream",
     "name": "stdout",
     "text": "[[[10  2]\n  [ 3  4]]\n\n [[10  6]\n  [ 7  8]]]\n"
    }
   ],
   "source": [
    "print(c)"
   ]
  },
  {
   "source": [
    "## Initializing Different Types Of Arrays"
   ],
   "cell_type": "markdown",
   "metadata": {}
  },
  {
   "cell_type": "code",
   "execution_count": 518,
   "metadata": {},
   "outputs": [
    {
     "output_type": "execute_result",
     "data": {
      "text/plain": "array([[0., 0., 0.],\n       [0., 0., 0.]])"
     },
     "metadata": {},
     "execution_count": 518
    }
   ],
   "source": [
    "# Initialize all 0 Matrix\n",
    "np.zeros((2,3))"
   ]
  },
  {
   "cell_type": "code",
   "execution_count": 519,
   "metadata": {},
   "outputs": [
    {
     "output_type": "execute_result",
     "data": {
      "text/plain": "array([[1., 1.],\n       [1., 1.],\n       [1., 1.]])"
     },
     "metadata": {},
     "execution_count": 519
    }
   ],
   "source": [
    "# Initialize all 1 matrix\n",
    "np.ones((3,2))"
   ]
  },
  {
   "cell_type": "code",
   "execution_count": 520,
   "metadata": {},
   "outputs": [
    {
     "output_type": "execute_result",
     "data": {
      "text/plain": "array([[[1., 1.],\n        [1., 1.]],\n\n       [[1., 1.],\n        [1., 1.]],\n\n       [[1., 1.],\n        [1., 1.]],\n\n       [[1., 1.],\n        [1., 1.]]])"
     },
     "metadata": {},
     "execution_count": 520
    }
   ],
   "source": [
    "# Initialize all 1 matrix 3D\n",
    "np.ones((4,2,2))"
   ]
  },
  {
   "cell_type": "code",
   "execution_count": 521,
   "metadata": {},
   "outputs": [
    {
     "output_type": "execute_result",
     "data": {
      "text/plain": "array([[99, 99],\n       [99, 99]])"
     },
     "metadata": {},
     "execution_count": 521
    }
   ],
   "source": [
    "# initialize matrix other numbers\n",
    "np.full((2,2),99)"
   ]
  },
  {
   "cell_type": "code",
   "execution_count": 522,
   "metadata": {
    "tags": []
   },
   "outputs": [
    {
     "output_type": "execute_result",
     "data": {
      "text/plain": "array([[4, 4, 4, 4, 4, 4, 4],\n       [4, 4, 4, 4, 4, 4, 4]])"
     },
     "metadata": {},
     "execution_count": 522
    }
   ],
   "source": [
    "# create matrix with existing shape\n",
    "np.full_like(a,4)"
   ]
  },
  {
   "cell_type": "code",
   "execution_count": 523,
   "metadata": {},
   "outputs": [
    {
     "output_type": "execute_result",
     "data": {
      "text/plain": "array([[0.52981058, 0.37065282],\n       [0.41899222, 0.68408988],\n       [0.59401398, 0.34059626],\n       [0.52406675, 0.69174614]])"
     },
     "metadata": {},
     "execution_count": 523
    }
   ],
   "source": [
    "# initialize matrix of decimal random number\n",
    "np.random.rand(4,2)"
   ]
  },
  {
   "cell_type": "code",
   "execution_count": 524,
   "metadata": {},
   "outputs": [
    {
     "output_type": "execute_result",
     "data": {
      "text/plain": "array([[0.25903386, 0.02012223, 0.28580152, 0.00454006, 0.61824343,\n        0.46457035, 0.48650396],\n       [0.93659861, 0.55095059, 0.42552554, 0.62389739, 0.16380078,\n        0.10372501, 0.39192605]])"
     },
     "metadata": {},
     "execution_count": 524
    }
   ],
   "source": [
    "# initialize random decimal matrux using another array shape\n",
    "np.random.random_sample(a.shape)"
   ]
  },
  {
   "cell_type": "code",
   "execution_count": 525,
   "metadata": {},
   "outputs": [
    {
     "output_type": "execute_result",
     "data": {
      "text/plain": "array([[7, 5, 7],\n       [6, 2, 4],\n       [1, 7, 1]])"
     },
     "metadata": {},
     "execution_count": 525
    }
   ],
   "source": [
    "# Random integer values\n",
    "np.random.randint(8,size=(3,3))"
   ]
  },
  {
   "cell_type": "code",
   "execution_count": 526,
   "metadata": {},
   "outputs": [
    {
     "output_type": "execute_result",
     "data": {
      "text/plain": "array([[10, 11,  9],\n       [ 9,  8,  8],\n       [10,  9,  8]])"
     },
     "metadata": {},
     "execution_count": 526
    }
   ],
   "source": [
    "# you can also genarate integer matrix in a range of number\n",
    "np.random.randint(8,12,size=(3,3)) # here range is 8 - 12"
   ]
  },
  {
   "cell_type": "code",
   "execution_count": 527,
   "metadata": {},
   "outputs": [
    {
     "output_type": "execute_result",
     "data": {
      "text/plain": "array([[1., 0., 0.],\n       [0., 1., 0.],\n       [0., 0., 1.]])"
     },
     "metadata": {},
     "execution_count": 527
    }
   ],
   "source": [
    "# you can also create indentity matrix\n",
    "np.identity(3) # it will give us 3*3 identity matrix "
   ]
  },
  {
   "cell_type": "code",
   "execution_count": 528,
   "metadata": {
    "tags": []
   },
   "outputs": [
    {
     "output_type": "stream",
     "name": "stdout",
     "text": "[[1 2 3]\n [1 2 3]\n [1 2 3]]\n"
    }
   ],
   "source": [
    "# repeat array\n",
    "arr = np.array([[1,2,3]])\n",
    "r1 = np.repeat(arr,3,axis=0) # axis= 0 means column and axis = 1 means row\n",
    "print(r1)"
   ]
  },
  {
   "source": [
    "## Exercise\n",
    "We are gonna create a matrix\n",
    "\n",
    "  1 1 1 1 1\n",
    "  <br>\n",
    "  1 0 0 0 1\n",
    "  <br>\n",
    "  1 0 9 0 1\n",
    "  <br>\n",
    "  1 0 0 0 1\n",
    "  <br>\n",
    "  1 1 1 1 1"
   ],
   "cell_type": "markdown",
   "metadata": {}
  },
  {
   "cell_type": "code",
   "execution_count": 529,
   "metadata": {
    "tags": []
   },
   "outputs": [
    {
     "output_type": "stream",
     "name": "stdout",
     "text": "[[1. 1. 1. 1. 1.]\n [1. 0. 0. 0. 1.]\n [1. 0. 9. 0. 1.]\n [1. 0. 0. 0. 1.]\n [1. 1. 1. 1. 1.]]\n"
    }
   ],
   "source": [
    "output = np.ones((5,5)) #first we are gonna create a 5*5 matrix of one\n",
    "zero  = np.zeros((3,3)) # create a 3*3 zero matrix to fill the middle part of matrix\n",
    "zero[1,1] = 9# we change the 1 row and first columm value to 9\n",
    "output[1:4,1:4] = zero\n",
    "print(output)"
   ]
  },
  {
   "source": [
    "### careful about copying arrays"
   ],
   "cell_type": "markdown",
   "metadata": {}
  },
  {
   "cell_type": "code",
   "execution_count": 530,
   "metadata": {
    "tags": []
   },
   "outputs": [
    {
     "output_type": "stream",
     "name": "stdout",
     "text": "[100   2   3]\n[100   2   3]\n[1 2 3]\n[100   2   3]\n"
    }
   ],
   "source": [
    "mainArr = np.array([1,2,3]) # first create a array\n",
    "copyArr = mainArr # we are copying mainArr value to copyArr\n",
    "copyArr[0] = 100 # let's change first value of copyArr to 100\n",
    "print(copyArr) \n",
    "print(mainArr)\n",
    "# now you see that not only copyArr, but mainArr value is also changed, because when we type copyArr = mainArr , that's means mainArr and copyArr both pointed to the same memory block where the array is stored, so when we change the value in copyArr, it changes the main array, to prevent this we are gonna use copy method\n",
    "mainArr = np.array([1,2,3])\n",
    "copyArr = mainArr.copy()\n",
    "copyArr[0] = 100\n",
    "print(mainArr)\n",
    "print(copyArr)"
   ]
  },
  {
   "source": [
    "## Using numpy for mathematics"
   ],
   "cell_type": "markdown",
   "metadata": {}
  },
  {
   "cell_type": "code",
   "execution_count": 531,
   "metadata": {
    "tags": []
   },
   "outputs": [
    {
     "output_type": "stream",
     "name": "stdout",
     "text": "[1 2 3 4]\n"
    }
   ],
   "source": [
    "mathArry = np.array([1,2,3,4])\n",
    "print(mathArry)"
   ]
  },
  {
   "cell_type": "code",
   "execution_count": 532,
   "metadata": {},
   "outputs": [
    {
     "output_type": "execute_result",
     "data": {
      "text/plain": "array([3, 4, 5, 6])"
     },
     "metadata": {},
     "execution_count": 532
    }
   ],
   "source": [
    "mathArry + 2 # this will add 2 with each element"
   ]
  },
  {
   "cell_type": "code",
   "execution_count": 533,
   "metadata": {},
   "outputs": [
    {
     "output_type": "execute_result",
     "data": {
      "text/plain": "array([-1,  0,  1,  2])"
     },
     "metadata": {},
     "execution_count": 533
    }
   ],
   "source": [
    "mathArry - 2 # this will subtract 2 with each element"
   ]
  },
  {
   "cell_type": "code",
   "execution_count": 534,
   "metadata": {},
   "outputs": [
    {
     "output_type": "execute_result",
     "data": {
      "text/plain": "array([2, 4, 6, 8])"
     },
     "metadata": {},
     "execution_count": 534
    }
   ],
   "source": [
    "mathArry * 2 # this will multiply 2 with each elment"
   ]
  },
  {
   "cell_type": "code",
   "execution_count": 535,
   "metadata": {},
   "outputs": [
    {
     "output_type": "execute_result",
     "data": {
      "text/plain": "array([0.5, 1. , 1.5, 2. ])"
     },
     "metadata": {},
     "execution_count": 535
    }
   ],
   "source": [
    "mathArry / 2 # this will divid 2 with each element and give us quotient"
   ]
  },
  {
   "cell_type": "code",
   "execution_count": 536,
   "metadata": {},
   "outputs": [
    {
     "output_type": "execute_result",
     "data": {
      "text/plain": "array([3, 7, 6, 8])"
     },
     "metadata": {},
     "execution_count": 536
    }
   ],
   "source": [
    "#let's add two array\n",
    "mathSecondArray = np.array([2,5,3,4])\n",
    "mathArry + mathSecondArray"
   ]
  },
  {
   "cell_type": "code",
   "execution_count": 537,
   "metadata": {},
   "outputs": [
    {
     "output_type": "execute_result",
     "data": {
      "text/plain": "array([ 1,  4,  9, 16], dtype=int32)"
     },
     "metadata": {},
     "execution_count": 537
    }
   ],
   "source": [
    "mathArry ** 2 # we can also use exponent"
   ]
  },
  {
   "cell_type": "code",
   "execution_count": 538,
   "metadata": {},
   "outputs": [
    {
     "output_type": "execute_result",
     "data": {
      "text/plain": "array([ 0.84147098,  0.90929743,  0.14112001, -0.7568025 ])"
     },
     "metadata": {},
     "execution_count": 538
    }
   ],
   "source": [
    "# we can also take the sin, cos and tan of all values\n",
    "np.sin(mathArry)"
   ]
  },
  {
   "cell_type": "code",
   "execution_count": 539,
   "metadata": {},
   "outputs": [
    {
     "output_type": "execute_result",
     "data": {
      "text/plain": "array([ 0.54030231, -0.41614684, -0.9899925 , -0.65364362])"
     },
     "metadata": {},
     "execution_count": 539
    }
   ],
   "source": [
    "np.cos(mathArry)"
   ]
  },
  {
   "cell_type": "code",
   "execution_count": 540,
   "metadata": {},
   "outputs": [
    {
     "output_type": "execute_result",
     "data": {
      "text/plain": "array([ 1.55740772, -2.18503986, -0.14254654,  1.15782128])"
     },
     "metadata": {},
     "execution_count": 540
    }
   ],
   "source": [
    "np.tan(mathArry)"
   ]
  },
  {
   "source": [
    "### linear algebra"
   ],
   "cell_type": "markdown",
   "metadata": {}
  },
  {
   "cell_type": "code",
   "execution_count": 541,
   "metadata": {
    "tags": []
   },
   "outputs": [
    {
     "output_type": "execute_result",
     "data": {
      "text/plain": "array([[6., 6.],\n       [6., 6.]])"
     },
     "metadata": {},
     "execution_count": 541
    }
   ],
   "source": [
    "# matrix multipication\n",
    "linA =np.ones((2,3))\n",
    "linB = np.full((3,2),2)\n",
    "\n",
    "np.matmul(linA,linB)"
   ]
  },
  {
   "cell_type": "code",
   "execution_count": 542,
   "metadata": {},
   "outputs": [
    {
     "output_type": "execute_result",
     "data": {
      "text/plain": "1.0"
     },
     "metadata": {},
     "execution_count": 542
    }
   ],
   "source": [
    "# we can also get determinant of matrix\n",
    "idMat = np.identity(3) # this will gove us 3*3 identitiy matrix\n",
    "np.linalg.det(idMat)"
   ]
  },
  {
   "cell_type": "code",
   "execution_count": 543,
   "metadata": {},
   "outputs": [],
   "source": [
    "## Reference docs (https://docs.scipy.org/doc/numpy/reference/routines.linalg.html)\n",
    "\n",
    "# Determinant\n",
    "# Trace\n",
    "# Singular Vector Decomposition\n",
    "# Eigenvalues\n",
    "# Matrix Norm\n",
    "# Inverse\n",
    "# Etc..."
   ]
  },
  {
   "source": [
    "### statistics"
   ],
   "cell_type": "markdown",
   "metadata": {}
  },
  {
   "cell_type": "code",
   "execution_count": 544,
   "metadata": {},
   "outputs": [
    {
     "output_type": "execute_result",
     "data": {
      "text/plain": "array([[1, 2, 3],\n       [4, 5, 6]])"
     },
     "metadata": {},
     "execution_count": 544
    }
   ],
   "source": [
    "stats = np.array([[1,2,3],[4,5,6]])\n",
    "stats"
   ]
  },
  {
   "cell_type": "code",
   "execution_count": 545,
   "metadata": {},
   "outputs": [
    {
     "output_type": "execute_result",
     "data": {
      "text/plain": "1"
     },
     "metadata": {},
     "execution_count": 545
    }
   ],
   "source": [
    "# get the min value of data\n",
    "np.min(stats)"
   ]
  },
  {
   "cell_type": "code",
   "execution_count": 546,
   "metadata": {},
   "outputs": [
    {
     "output_type": "execute_result",
     "data": {
      "text/plain": "6"
     },
     "metadata": {},
     "execution_count": 546
    }
   ],
   "source": [
    "# get the max value of data\n",
    "np.max(stats)"
   ]
  },
  {
   "cell_type": "code",
   "execution_count": 547,
   "metadata": {},
   "outputs": [
    {
     "output_type": "execute_result",
     "data": {
      "text/plain": "array([1, 4])"
     },
     "metadata": {},
     "execution_count": 547
    }
   ],
   "source": [
    "# get the min value in row\n",
    "np.min(stats,axis=1)"
   ]
  },
  {
   "source": [
    "### reorganizing array"
   ],
   "cell_type": "markdown",
   "metadata": {}
  },
  {
   "cell_type": "code",
   "execution_count": 548,
   "metadata": {
    "tags": []
   },
   "outputs": [
    {
     "output_type": "stream",
     "name": "stdout",
     "text": "[[1 2 3 4]\n [5 6 7 8]]\n"
    }
   ],
   "source": [
    "before = np.array([[1,2,3,4],[5,6,7,8]])\n",
    "print(before)"
   ]
  },
  {
   "cell_type": "code",
   "execution_count": 549,
   "metadata": {
    "tags": []
   },
   "outputs": [
    {
     "output_type": "stream",
     "name": "stdout",
     "text": "[[1]\n [2]\n [3]\n [4]\n [5]\n [6]\n [7]\n [8]]\n"
    }
   ],
   "source": [
    "# change shape of matrix\n",
    "after = before.reshape((8,1))\n",
    "print(after)"
   ]
  },
  {
   "cell_type": "code",
   "execution_count": 551,
   "metadata": {},
   "outputs": [
    {
     "output_type": "execute_result",
     "data": {
      "text/plain": "array([[1, 2, 3, 4],\n       [5, 6, 7, 8]])"
     },
     "metadata": {},
     "execution_count": 551
    }
   ],
   "source": [
    "# vertical statking matricies\n",
    "v1 = np.array([1,2,3,4])\n",
    "v2 = np.array([5,6,7,8])\n",
    "np.vstack([v1,v2])"
   ]
  },
  {
   "cell_type": "code",
   "execution_count": 552,
   "metadata": {},
   "outputs": [
    {
     "output_type": "execute_result",
     "data": {
      "text/plain": "array([[1., 1., 1., 1., 0., 0.],\n       [1., 1., 1., 1., 0., 0.]])"
     },
     "metadata": {},
     "execution_count": 552
    }
   ],
   "source": [
    "# horizontal stack\n",
    "h1 = np.ones((2,4))\n",
    "h2 = np.zeros((2,2))\n",
    "np.hstack((h1,h2))"
   ]
  },
  {
   "source": [
    "### load data from file"
   ],
   "cell_type": "markdown",
   "metadata": {}
  },
  {
   "cell_type": "code",
   "execution_count": 558,
   "metadata": {},
   "outputs": [
    {
     "output_type": "execute_result",
     "data": {
      "text/plain": "array([[  1,  13,  21,  11, 196,  75,   4,   3,  34,   6,   7,   8,   0,\n          1,   2,   3,   4,   5],\n       [  3,  42,  12,  33, 766,  75,   4,  55,   6,   4,   3,   4,   5,\n          6,   7,   0,  11,  12],\n       [  1,  22,  33,  11, 999,  11,   2,   1,  78,   0,   1,   2,   9,\n          8,   7,   1,  76,  88]])"
     },
     "metadata": {},
     "execution_count": 558
    }
   ],
   "source": [
    "fileData = np.genfromtxt(\"data.txt\",delimiter=\",\")\n",
    "fileData =  fileData.astype(\"int32\")# change it to intiger\n",
    "fileData"
   ]
  },
  {
   "source": [
    "### Boolean masking and Advance Indexing"
   ],
   "cell_type": "markdown",
   "metadata": {}
  },
  {
   "cell_type": "code",
   "execution_count": 561,
   "metadata": {},
   "outputs": [
    {
     "output_type": "execute_result",
     "data": {
      "text/plain": "array([[False, False, False, False,  True,  True, False, False, False,\n        False, False, False, False, False, False, False, False, False],\n       [False, False, False, False,  True,  True, False,  True, False,\n        False, False, False, False, False, False, False, False, False],\n       [False, False, False, False,  True, False, False, False,  True,\n        False, False, False, False, False, False, False,  True,  True]])"
     },
     "metadata": {},
     "execution_count": 561
    }
   ],
   "source": [
    "fileData > 50 # file data greater than 50"
   ]
  },
  {
   "cell_type": "code",
   "execution_count": 563,
   "metadata": {},
   "outputs": [
    {
     "output_type": "execute_result",
     "data": {
      "text/plain": "array([196,  75, 766,  75,  55, 999,  78,  76,  88])"
     },
     "metadata": {},
     "execution_count": 563
    }
   ],
   "source": [
    "fileData[fileData > 50] # grab data which is greater than 50"
   ]
  },
  {
   "cell_type": "code",
   "execution_count": 565,
   "metadata": {},
   "outputs": [
    {
     "output_type": "execute_result",
     "data": {
      "text/plain": "array([2, 3, 9])"
     },
     "metadata": {},
     "execution_count": 565
    }
   ],
   "source": [
    "# you can index with a list with a numpy\n",
    "a =  np.array([1,2,3,4,5,6,7,8,9])\n",
    "a[[1,2,8]] # we pass a list for indexing"
   ]
  },
  {
   "cell_type": "code",
   "execution_count": 566,
   "metadata": {},
   "outputs": [
    {
     "output_type": "execute_result",
     "data": {
      "text/plain": "array([False, False, False, False,  True,  True, False,  True,  True,\n       False, False, False, False, False, False, False,  True,  True])"
     },
     "metadata": {},
     "execution_count": 566
    }
   ],
   "source": [
    "np.any(fileData> 50 ,axis = 0) # find any data greater than 50 in column"
   ]
  },
  {
   "cell_type": "code",
   "execution_count": 569,
   "metadata": {},
   "outputs": [
    {
     "output_type": "execute_result",
     "data": {
      "text/plain": "array([[False, False, False, False, False,  True, False, False, False,\n        False, False, False, False, False, False, False, False, False],\n       [False, False, False, False, False,  True, False,  True, False,\n        False, False, False, False, False, False, False, False, False],\n       [False, False, False, False, False, False, False, False,  True,\n        False, False, False, False, False, False, False,  True,  True]])"
     },
     "metadata": {},
     "execution_count": 569
    }
   ],
   "source": [
    "((fileData > 50) & (fileData < 100)) # we can use condition "
   ]
  },
  {
   "cell_type": "code",
   "execution_count": null,
   "metadata": {},
   "outputs": [],
   "source": []
  }
 ]
}